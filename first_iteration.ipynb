{
 "cells": [
  {
   "cell_type": "code",
   "execution_count": 6,
   "metadata": {},
   "outputs": [],
   "source": [
    "def first_iteration():\n",
    "    json_data = [\n",
    "        {\"key1\": \"value1\"}, \n",
    "        {\"k1\": \"v1\", \"k2\": \"v2\", \"k3\": \"v3\"}, \n",
    "        {}, \n",
    "        {}, \n",
    "        {\"key1\": \"value1\"}, \n",
    "        {\"key1\": \"value1\"}, \n",
    "        {\"key2\": \"value2\"}\n",
    "        ]\n",
    "    \n",
    "    temp = []\n",
    "    [temp.append(item) for item in json_data if item not in temp]\n",
    "    return temp"
   ]
  },
  {
   "cell_type": "code",
   "execution_count": 7,
   "metadata": {},
   "outputs": [
    {
     "data": {
      "text/plain": [
       "[{'key1': 'value1'},\n",
       " {'k1': 'v1', 'k2': 'v2', 'k3': 'v3'},\n",
       " {},\n",
       " {'key2': 'value2'}]"
      ]
     },
     "execution_count": 7,
     "metadata": {},
     "output_type": "execute_result"
    }
   ],
   "source": [
    "first_iteration()"
   ]
  },
  {
   "cell_type": "code",
   "execution_count": 8,
   "metadata": {},
   "outputs": [
    {
     "name": "stdout",
     "output_type": "stream",
     "text": [
      "1.59 µs ± 307 ns per loop (mean ± std. dev. of 7 runs, 1,000,000 loops each)\n"
     ]
    }
   ],
   "source": [
    "%timeit first_iteration()"
   ]
  }
 ],
 "metadata": {
  "kernelspec": {
   "display_name": "Python 3",
   "language": "python",
   "name": "python3"
  },
  "language_info": {
   "codemirror_mode": {
    "name": "ipython",
    "version": 3
   },
   "file_extension": ".py",
   "mimetype": "text/x-python",
   "name": "python",
   "nbconvert_exporter": "python",
   "pygments_lexer": "ipython3",
   "version": "3.11.4"
  },
  "orig_nbformat": 4
 },
 "nbformat": 4,
 "nbformat_minor": 2
}
